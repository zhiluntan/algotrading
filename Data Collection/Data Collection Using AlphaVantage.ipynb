{
 "cells": [
  {
   "cell_type": "markdown",
   "metadata": {},
   "source": [
    "### Title: Data Collection Using AlphaVantage\n",
    "Author: Tan Zhi Lun  \n",
    "Contact: zhilun296@gmail.com"
   ]
  },
  {
   "cell_type": "markdown",
   "metadata": {},
   "source": [
    "This short project aims to create a file for storing the 1 minute OHLC data extracted from Alpha Vantage's API.  \n",
    "\n",
    "Essentially there are **2 pandas dataframes**:  \n",
    "1. The data extracted from Alpha Vantage (using a wrapper API)\n",
    "2. The original data in the csv file\n",
    "\n",
    "**Further processing** is required, however, as we need to reverse the data extracted such that it is in reverse chronological order, then remove any **duplicates** when combining it with the original dataframe.\n",
    "\n",
    "E.g. If the original dataframe has entries up to 08:30 am, whereas the data extracted from Alpha Vantage starts from 08:00 am, the script would remove the duplicate OHLC data from 08:00 am to 08:30 am."
   ]
  },
  {
   "cell_type": "code",
   "execution_count": 5,
   "metadata": {},
   "outputs": [
    {
     "name": "stdout",
     "output_type": "stream",
     "text": [
      "EURUSD past day data\n",
      "                     1. open  2. high  3. low  4. close\n",
      "date                                                   \n",
      "2020-07-30 22:30:00   1.1845   1.1845  1.1842    1.1844\n",
      "2020-07-30 22:31:00   1.1843   1.1844  1.1842    1.1844\n",
      "2020-07-30 22:32:00   1.1843   1.1845  1.1841    1.1844\n",
      "2020-07-30 22:33:00   1.1845   1.1845  1.1842    1.1843\n",
      "2020-07-30 22:34:00   1.1844   1.1845  1.1842    1.1844\n",
      "...                      ...      ...     ...       ...\n",
      "2020-07-31 21:55:00   1.1771   1.1771  1.1771    1.1771\n",
      "2020-07-31 21:56:00   1.1771   1.1771  1.1771    1.1771\n",
      "2020-07-31 21:57:00   1.1771   1.1771  1.1771    1.1771\n",
      "2020-07-31 21:58:00   1.1771   1.1771  1.1771    1.1771\n",
      "2020-07-31 21:59:00   1.1771   1.1771  1.1771    1.1771\n",
      "\n",
      "[1410 rows x 4 columns]\n"
     ]
    }
   ],
   "source": [
    "import pandas as pd\n",
    "from alpha_vantage.foreignexchange import ForeignExchange\n",
    "\n",
    "# Choosing the file for saving data\n",
    "filename_eurusd = \"EURUSD_data.csv\"\n",
    "auth_token ='' # Insert authorization token from personal account here\n",
    "\n",
    "# Using wrapper api for Alpha Vantage\n",
    "fx = ForeignExchange(key= auth_token, output_format='pandas')\n",
    "data, meta_data = fx.get_currency_exchange_intraday('EUR', 'USD', '1min', 'full')\n",
    "\n",
    "# Reverse the order such that the most recent entry is last\n",
    "data = data[::-1]\n",
    "\n",
    "# Read in csv file to prepare for combination, using date as the index for sorting and further combination\n",
    "df1 = pd.read_csv(filename_eurusd, index_col = 'date')\n",
    "df1.index = pd.to_datetime(df1.index)\n",
    "\n",
    "# Combine the data from Alpha Vantage and original csv file, removing any duplicates\n",
    "df1 = df1.append(data)\n",
    "df1 = df1.sort_values(by='date')\n",
    "df1 = df1.loc[~df1.index.duplicated(keep='first')]\n",
    "\n",
    "# To save data into the same csv file\n",
    "df1.to_csv(filename_eurusd, header = True) \n",
    "\n",
    "print(\"EURUSD past day data\")\n",
    "print(df1)"
   ]
  }
 ],
 "metadata": {
  "kernelspec": {
   "display_name": "Python 3",
   "language": "python",
   "name": "python3"
  },
  "language_info": {
   "codemirror_mode": {
    "name": "ipython",
    "version": 3
   },
   "file_extension": ".py",
   "mimetype": "text/x-python",
   "name": "python",
   "nbconvert_exporter": "python",
   "pygments_lexer": "ipython3",
   "version": "3.7.7"
  }
 },
 "nbformat": 4,
 "nbformat_minor": 4
}
