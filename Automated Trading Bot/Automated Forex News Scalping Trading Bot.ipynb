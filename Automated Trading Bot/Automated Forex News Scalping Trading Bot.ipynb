{
 "cells": [
  {
   "cell_type": "markdown",
   "metadata": {},
   "source": [
    "### Title: Automated Forex News Scalping Trading Bot\n",
    "Author: Tan Zhi Lun  \n",
    "Contact: zhilun296@gmail.com"
   ]
  },
  {
   "cell_type": "markdown",
   "metadata": {},
   "source": [
    "## The Strategy\n",
    "\n",
    "Imagine that we are presented with the oldest bet in the book, a coinflip. When the coin is in the air, we have no way of knowing whether the coin will land on heads, or tails.  \n",
    "But what if we knew the exact point in **time** that the coin will land?"
   ]
  },
  {
   "cell_type": "markdown",
   "metadata": {},
   "source": [
    "Well, then we could say, with a 100% certainty, that at that exact point in time the coin's state will be either heads or tails. And we see that this is what is happening in the forex market, as countries' economic news are always released at a pre-specified time. For example, non-farm payrolls, which is one of the most closely monitored forex news is always released at 2030 hrs (SGT) on the first Friday of every month. These news events often bring volatility, and more importantly, it may cause a strong candle to form due to mass buying/ selling if the result is extremely unexpected.  \n",
    "As shown, the news are always released at a predictable time:"
   ]
  },
  {
   "cell_type": "markdown",
   "metadata": {},
   "source": [
    "<img src='./Images/forexnews.jpg' width=\"600\">"
   ]
  },
  {
   "cell_type": "markdown",
   "metadata": {},
   "source": [
    "Note that what matters here is that the result must be significantly different from the **consensus**; it does not matter in terms of the value of the result itself. For example, assume that the US economy has been doing relatively poorly and the estimates for the NFP is at 1360K, down from 4800K last month as shown above. If the actual results show 2000K, the market would still be **bullish** on USD even though it is down from 4800K, whereas an upset to the downside at 1000K would potentially cause a huge **bearish** candle, off of which we could capitalize on.  \n",
    "\n",
    "So, the strategy here is:\n",
    "1. Place both a buy stop and a sell stop at a certain number of pips above and below the current price two minutes prior to news strike (S/L: current price).\n",
    "2. If the result is not significantly different from the consensus, close off both positions.\n",
    "3. If the buy stop is triggered, close the sell stop position and trail the stop loss. Vice versa if sell stop is triggered.\n",
    "\n",
    "Below is an illustration of the strategy (news time is at 9pm):"
   ]
  },
  {
   "cell_type": "markdown",
   "metadata": {},
   "source": [
    "<img src='./Images/stratpic1.jpg' width=\"600\">"
   ]
  },
  {
   "cell_type": "markdown",
   "metadata": {},
   "source": [
    "<img src='./Images/stratpic2.jpg' width=\"600\">"
   ]
  },
  {
   "cell_type": "markdown",
   "metadata": {},
   "source": [
    "<img src='./Images/stratpic3.jpg' width=\"600\">"
   ]
  },
  {
   "cell_type": "markdown",
   "metadata": {},
   "source": [
    "## Discussion\n",
    "The discussion will be centered around 2 main points:\n",
    "1. Implementation of the strategy\n",
    "2. Optimization of strategy parameters"
   ]
  },
  {
   "cell_type": "markdown",
   "metadata": {},
   "source": [
    "## 1. Implementation of the strategy\n",
    "The strategy is implemented using Darwinex's API, which is built on the ZeroMQ Connector to MT4. The reason why this API is chosen is mainly because of flexibility; as this API allows us to choose from any broker that uses MT4 as it is built upon MQL4. Thus, we would be able to choose for example, Pepperstone as our broker as their flat commission rate structure instead of a bid-ask spread would allow us to avoid the potentially higher bid-ask spread during the news strike time.  \n",
    "\n",
    "In a nutshell, the API works by connecting external scripts in other languages such as Python to MT4 through synchronous and asynchronous messaging using Expert Advisors MQL4 script. For further details, please refer to Darwinex's github: https://github.com/darwinex/dwx-zeromq-connector"
   ]
  },
  {
   "cell_type": "markdown",
   "metadata": {},
   "source": [
    "The following code is built upon this file in the API: https://github.com/darwinex/dwx-zeromq-connector/blob/master/v2.0.1/python/examples/template/strategies/base/DWX_ZMQ_Strategy.py .\n",
    "\n",
    "```python\n",
    "# Presented in markdown format as the files required would be too heavy for the repo.\n",
    "# For further details please refer to the github of the API.\n",
    "\n",
    "# The _trader_ method is written in the Strategy class.\n",
    "# Symbol is a list, where index 0 is currency pair, index 1 is lot size.\n",
    "\n",
    "    def _trader_(self, _symbol, _max_trades):     \n",
    "        # Construct first order form, which will be sent to MT4 for execution later on. Order type 4 is buy stop.\n",
    "        # Price will be set later on\n",
    "        _default_order_1 = self._zmq._generate_default_order_dict()\n",
    "        _default_order_1['_type'] = 4\n",
    "        _default_order_1['_symbol'] = _symbol[0]\n",
    "        _default_order_1['_lots'] = _symbol[1]\n",
    "        _default_order_1['_SL'] = _default_order_1['_TP'] = 120\n",
    "        _default_order_1['_comment'] = '{}_Trader'.format(_symbol[0])\n",
    "        _default_order_1['_magic'] = 1\n",
    "        \n",
    "        # Construct second order form, which will be sent to MT4 for execution later on. Order type 5 is sell stop.\n",
    "        # Price will be set later on.\n",
    "        _default_order_2 = self._zmq._generate_default_order_dict()\n",
    "        _default_order_2['_type'] = 5\n",
    "        _default_order_2['_symbol'] = _symbol[0]\n",
    "        _default_order_2['_lots'] = _symbol[1]\n",
    "        _default_order_2['_SL'] = _default_order_2['_TP'] = 120\n",
    "        _default_order_2['_comment'] = '{}_Trader'.format(_symbol[0])\n",
    "        _default_order_2['_magic'] = 2\n",
    "        \n",
    "        # Subscribe to market data for execution\n",
    "        self._zmq._DWX_MTX_SUBSCRIBE_MARKETDATA_(_symbol=_symbol[0])\n",
    "        \n",
    "        # Define variables to be updated later in the loop\n",
    "        newstimepricehigh = None\n",
    "        newstimepricelow = None\n",
    "        buystopticket = None\n",
    "        sellstopticket = None\n",
    "        value_sell = None\n",
    "        value_buy = None\n",
    "        time_diff = None\n",
    "        pricelist = []\n",
    "        \n",
    "        # Main bulk of the strategy\n",
    "        while self._market_open:\n",
    "   \n",
    "                # Variables regarding time\n",
    "                newstime = datetime(2020,8,3,8,42)\n",
    "                newstimeminus2 = newstime - Timedelta(minutes=2)\n",
    "                timedifftoorder = datetime.now() - newstimeminus2\n",
    "                currenttime = datetime.now()\n",
    "                time_buffer = 30\n",
    "                fiveminsbuffer = newstime + Timedelta(minutes=5)\n",
    "            \n",
    "                # This gives us a order matrix, and this is used to calculate number of open trades\n",
    "                _ot = self._reporting._get_open_trades_('{}_Trader'.format(_symbol[0]),\n",
    "                                                            self._delay,\n",
    "                                                            10)\n",
    "                \n",
    "                # If there are no open trades (buy stop and sell stop are also considered open trades)\n",
    "                # And it is two minutes before news time\n",
    "                # Note that this section is entirely before news time\n",
    "                # Central idea is to put in the buy and sell stop.\n",
    "                if _ot.shape[0] == 0 and 0 < timedifftoorder.total_seconds() < time_buffer:\n",
    "                    \n",
    "                    try:                        \n",
    "                        # Get current price\n",
    "                        Temp_CurrBidAsk = self._zmq._Market_Data_DB[_symbol[0]].items()\n",
    "                        CurrBidAsk = list(Temp_CurrBidAsk)[-1][1]\n",
    "                        \n",
    "                        # These are the buy stop and sell stop entry prices, currently set at 12 pips above and below.\n",
    "                        newstimepricehigh = (CurrBidAsk[0] + CurrBidAsk[1])/2 + 0.0012\n",
    "                        newstimepricelow = newstimepricehigh - 0.0024\n",
    "                        \n",
    "                        # Set price for order form 1\n",
    "                        _default_order_1['_price'] = newstimepricehigh\n",
    "                        # Set buy stop using order form 1\n",
    "                        _ret = self._execution._execute_(_default_order_1,\n",
    "                                                         self._verbose,\n",
    "                                                         self._delay,\n",
    "                                                         10) \n",
    "                        # Set price for order form 2\n",
    "                        _default_order_2['_price'] = newstimepricelow                       \n",
    "                        # Set sell stop using order form 2\n",
    "                        _retto = self._execution._execute_(_default_order_2,\n",
    "                                                         self._verbose,\n",
    "                                                         self._delay,\n",
    "                                                         10)\n",
    "                        # Get ticket for this buy stop such that we can interact with it later on.\n",
    "                        buystopticket = _ret['_ticket'] \n",
    "                        # Get ticket for this buy stop such that we can interact with it later on. \n",
    "                        sellstopticket = _retto['_ticket']\n",
    "                        # Get news time price which will be used for the trailing stop loss\n",
    "                        newstimeprice=(newstimepricehigh+newstimepricelow)/2\n",
    "                        pricelist.append(newstimeprice)                        \n",
    "                        continue           \n",
    "                    except:     \n",
    "                        continue     \n",
    "               \n",
    "                # After news time strike\n",
    "                # Note that this section is entirely after news time\n",
    "                # The central idea is to close unwanted trades and trail stop loss.\n",
    "                elif currenttime > newstime:\n",
    "                    # Variables to calculate current price\n",
    "                    Temp_CurrBidAsk2 = self._zmq._Market_Data_DB[_symbol[0]].items()                    \n",
    "                    CurrBidAsk2 = list(Temp_CurrBidAsk2)[-1][1]\n",
    "                    currentprice = (CurrBidAsk2[0] + CurrBidAsk2[1])/2\n",
    "                    pricelist.append(currentprice)\n",
    "                    time_diff = (Timedelta(currenttime - newstime).total_seconds())//120\n",
    "                        \n",
    "                    # If sell stop is triggered, trail stop loss by moving it down\n",
    "                    # The stop loss slowly shrinks and \"converges\" to the current price (floored at 6 pips)\n",
    "                    # Close buy stop by using its ticket\n",
    "                    if currentprice < newstimepricelow:\n",
    "                        if len(pricelist)>=2 and pricelist[-1] == min(pricelist):\n",
    "                            try:\n",
    "                                value_sell = round(((currentprice - \\\n",
    "                                                     (newstimepricelow-max((0.0012time_diff*0.0002),0.0006)))*100000),2)\n",
    "                                self._zmq._DWX_MTX_MODIFY_TRADE_BY_TICKET_(sellstopticket,value_sell,10000)\n",
    "                            except:\n",
    "                                pass         \n",
    "                        try:\n",
    "                            self._zmq._DWX_MTX_CLOSE_TRADE_BY_TICKET_(buystopticket)\n",
    "                        except:\n",
    "                            pass                         \n",
    "                        sleep(1)                        \n",
    "                        continue\n",
    "                        \n",
    "                    # If buy stop is triggered, trail stop loss by moving it up\n",
    "                    # The stop loss slowly shrinks and \"converges\" to the current price (floored at 6 pips)\n",
    "                    # Close sell stop by using its ticket\n",
    "                    elif currentprice > newstimepricehigh:\n",
    "                        if len(pricelist)>=2 and pricelist[-1] == max(pricelist):\n",
    "                            try:\n",
    "                                value_buy = round(((newstimepricehigh - \\\n",
    "                                                    (currentprice - max((0.0012-time_diff*0.0002),0.0006)))*100000),2)\n",
    "                                self._zmq._DWX_MTX_MODIFY_TRADE_BY_TICKET_(buystopticket,value_buy,10000)\n",
    "                            except:\n",
    "                                pass                            \n",
    "                            try:\n",
    "                            self._zmq._DWX_MTX_CLOSE_TRADE_BY_TICKET_(sellstopticket)\n",
    "                        except:\n",
    "                            pass\n",
    "                        sleep(1)\n",
    "                        continue             \n",
    "                    \n",
    "                    # If 5 minutes has passed without anything happening, close all trades.\n",
    "                    elif currenttime > fiveminsbuffer:\n",
    "                        self._zmq._DWX_MTX_CLOSE_ALL_TRADES_()\n",
    "                        break                   \n",
    "                    else:\n",
    "                        sleep(1)\n",
    "                        continue                \n",
    "                else:                    \n",
    "                    continue\n",
    "```\n",
    "Below is a sample of what it looks like after the code is run:"
   ]
  },
  {
   "cell_type": "markdown",
   "metadata": {},
   "source": [
    "<img src='./Images/stoploss.jpg' width=\"800\">"
   ]
  },
  {
   "cell_type": "markdown",
   "metadata": {},
   "source": [
    "Notice that there are a couple of crucial parameters that can be optimized.\n",
    "\n",
    "While a blanket solution such as 12 pips difference from current price for the buy and sell stop can be used, we can calculate an optimum combination by leveraging on past data."
   ]
  },
  {
   "cell_type": "markdown",
   "metadata": {},
   "source": [
    "## 2. Optimization of strategy parameters\n",
    "\n"
   ]
  },
  {
   "cell_type": "markdown",
   "metadata": {},
   "source": [
    "One drawback of this strategy is that it is relatively difficult to backtest, as it would call for data granularity up to the tick level. Unfortunately, I was personally unable to locate any data at the tick level with prices which I could afford in terms of price.\n",
    "\n",
    "However, even with minute level data, optimization can still be done on two parameters:\n",
    "1. Currency pair to scalp\n",
    "2. Difference set from current price for sell stop and buy stop\n",
    "\n",
    "For the currency pair, by calculating the max change of price within the timeframe, we can find the currency pair that has the highest volatility and highest change in price, which is ideal for the strategy. For the difference set from current price, we can also easily find the ideal number of pips to set such that we can try to  avoid a whipsaw, which would cause us to instantly stop out.\n",
    "\n",
    "Below is the code used to calculate the parameters:"
   ]
  },
  {
   "cell_type": "code",
   "execution_count": 1,
   "metadata": {},
   "outputs": [],
   "source": [
    "import pandas as pd\n",
    "from datetime import datetime\n",
    "\n",
    "# This is the pool of potential pairs\n",
    "pairs = (\"EURUSD\", \"USDCAD\", \"AUDUSD\", \"GBPUSD\", \"USDJPY\", \"USDCHF\")\n",
    "\n",
    "# 2018 NFP dates\n",
    "dates = ((2018,1,5),(2018,2,2),(2018,3,9),(2018,4,6),(2018,5,4),(2018,6,1),\n",
    "          (2018,7,6),(2018,8,3),(2018,9,7),(2018,10,5),(2018,11,2),(2018,12,7))\n",
    "\n",
    "# Empty dict, will contain all of the results\n",
    "resultdict = {}"
   ]
  },
  {
   "cell_type": "code",
   "execution_count": 3,
   "metadata": {},
   "outputs": [
    {
     "name": "stdout",
     "output_type": "stream",
     "text": [
      "                         0\n",
      "(2018, 1, 5) EURUSD   32.7\n",
      "(2018, 2, 2) EURUSD   36.5\n",
      "(2018, 3, 9) EURUSD   27.1\n",
      "(2018, 4, 6) EURUSD   23.0\n",
      "(2018, 5, 4) EURUSD   31.7\n",
      "...                    ...\n",
      "(2018, 8, 3) USDCHF    8.7\n",
      "(2018, 9, 7) USDCHF   16.6\n",
      "(2018, 10, 5) USDCHF  19.3\n",
      "(2018, 11, 2) USDCHF   2.1\n",
      "(2018, 12, 7) USDCHF  31.0\n",
      "\n",
      "[72 rows x 1 columns]\n"
     ]
    }
   ],
   "source": [
    "# Double nested loop so runs through all the dates for each pair\n",
    "for j in pairs:\n",
    "    for i in dates:\n",
    "        \n",
    "        # Reading the file\n",
    "        filename = j + \"_out_2018.csv\"\n",
    "        df = pd.read_csv(filename, index_col = 'datetime')\n",
    "        df.index = pd.to_datetime(df.index)\n",
    "        \n",
    "        # Empty lists to be appended later\n",
    "        highlist = []\n",
    "        lowlist = []\n",
    "        \n",
    "        # Defining ranges, 14:30 is the news strike time for 20:30 news\n",
    "        startdate = datetime(*i,14,27)\n",
    "        enddate = datetime(*i,14,36)\n",
    "        \n",
    "        # Calculate each minute, then append the list\n",
    "        for time in pd.date_range(startdate, enddate, freq = \"min\"):\n",
    "            # Convert to str for df.loc[] purposes\n",
    "            timestr = str(time)\n",
    "            \n",
    "            # lookup and convert numpy float to native float\n",
    "            try:\n",
    "                highno = df.loc[timestr]['High']                \n",
    "                highfloat = highno.item()\n",
    "            except:\n",
    "                highfloat = 0\n",
    "            \n",
    "            try:\n",
    "                lowno = df.loc[timestr]['Low']\n",
    "                lowfloat = lowno.item()\n",
    "            except:\n",
    "                lowfloat = 0\n",
    "        \n",
    "            # Append the list\n",
    "            highlist.append(highfloat)\n",
    "            lowlist.append(lowfloat)\n",
    "                \n",
    "        # From the list find maximum difference (volatility)\n",
    "        maxdiff = (max(highlist) - min(highlist))*10000\n",
    "        \n",
    "        # Updating the final dictionary\n",
    "        ijkey = str(i) + \" \" + str(j)        \n",
    "        resultdict[ijkey] = maxdiff\n",
    "        \n",
    "# Save dictionary in dataframe\n",
    "df2 = pd.DataFrame.from_dict(resultdict, orient='index')\n",
    "# df2.to_csv(\"max pip move results.csv\", header= False)\n",
    "\n",
    "print(df2)"
   ]
  },
  {
   "cell_type": "markdown",
   "metadata": {},
   "source": [
    "With a bit of further cleaning in excel we get (refer to file in Excel File Output folder for full illustration):"
   ]
  },
  {
   "cell_type": "markdown",
   "metadata": {},
   "source": [
    "<img src='./Images/excelfileoutput.jpg' width=\"800\">"
   ]
  },
  {
   "cell_type": "markdown",
   "metadata": {},
   "source": [
    "From this, we can see that in 2018, if we were to scalp NFP, USDCAD would be the ideal choice. To prevent a whipsaw, a value above 15.2 but below 16 would probably be ideal, as it barely gets us out of the range of a whipsaw.\n",
    "\n",
    "While past performance does not guarantee the future, these calculations can help serve as a benchmark to find a ballpark figure for the values to be set for the buy stop and sell stop, as well as the currency pair to be chosen."
   ]
  }
 ],
 "metadata": {
  "kernelspec": {
   "display_name": "Python 3",
   "language": "python",
   "name": "python3"
  },
  "language_info": {
   "codemirror_mode": {
    "name": "ipython",
    "version": 3
   },
   "file_extension": ".py",
   "mimetype": "text/x-python",
   "name": "python",
   "nbconvert_exporter": "python",
   "pygments_lexer": "ipython3",
   "version": "3.7.7"
  }
 },
 "nbformat": 4,
 "nbformat_minor": 4
}
