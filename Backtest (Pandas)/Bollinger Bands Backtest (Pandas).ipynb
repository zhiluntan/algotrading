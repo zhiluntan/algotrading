{
 "cells": [
  {
   "cell_type": "markdown",
   "metadata": {},
   "source": [
    "### Title: Bollinger Bands Backtest (Pandas)\n",
    "Author: Tan Zhi Lun  \n",
    "Contact: zhilun296@gmail.com"
   ]
  },
  {
   "cell_type": "markdown",
   "metadata": {},
   "source": [
    "### The strategy\n",
    "This is a simple mean reversion strategy, where:\n",
    "1. A short order will be placed if the price closes above the Upper Bollinger Band\n",
    "2. A long order will be placed if the price closes below the Lower Bollinger Band\n",
    "\n",
    "The timeframe for the strategy is 1 minute, and the dataset used for backtesting is 1 hr in length in total. However, this can easily be extended to longer timeframes as well."
   ]
  },
  {
   "cell_type": "code",
   "execution_count": 2,
   "metadata": {},
   "outputs": [
    {
     "name": "stdout",
     "output_type": "stream",
     "text": [
      "               datetime    Close      Mean  BBands_High  BBands_Low\n",
      "21  2017-04-28 21:21:00  1.08983  1.089743     1.090046    1.089441\n",
      "22  2017-04-28 21:22:00  1.08982  1.089739     1.090036    1.089443\n",
      "23  2017-04-28 21:23:00  1.08983  1.089736     1.090028    1.089445\n",
      "24  2017-04-28 21:24:00  1.08984  1.089734     1.090022    1.089447\n",
      "25  2017-04-28 21:25:00  1.08982  1.089730     1.090010    1.089451\n",
      "26  2017-04-28 21:26:00  1.08979  1.089724     1.089991    1.089457\n",
      "27  2017-04-28 21:27:00  1.08979  1.089727     1.089996    1.089458\n",
      "28  2017-04-28 21:28:00  1.08972  1.089739     1.089981    1.089497\n",
      "29  2017-04-28 21:29:00  1.08973  1.089756     1.089931    1.089582\n"
     ]
    }
   ],
   "source": [
    "import pandas as pd\n",
    "import numpy as np\n",
    "\n",
    "#read file into pd dataframe\n",
    "filename = \"EURUSD_out_2017_1hr.csv\"\n",
    "df = pd.read_csv(filename)\n",
    "\n",
    "#Reduce columns that are not needed\n",
    "del df['Number']\n",
    "del df['Open']\n",
    "del df['High']\n",
    "del df['Low']\n",
    "\n",
    "# Strategy refers to BBands, create Mean, Low and High columns for the MA and bands respectively\n",
    "def Strategy(DF, n):\n",
    "    df = DF.copy()\n",
    "    df['Mean'] = df['Close'].rolling(n).mean()\n",
    "    df['BBands_Diff'] = df['Close'].rolling(n).std() * 2\n",
    "    df['BBands_High'] = df['Mean'] + df['BBands_Diff']\n",
    "    df['BBands_Low'] = df['Mean'] - df['BBands_Diff']\n",
    "    del df['BBands_Diff']\n",
    "    return df\n",
    "df = Strategy(df,20)\n",
    "\n",
    "# Function to find last occurrence of 1, -1 and 2 in 'Position' column. \n",
    "# Emptylist to keep track of index.\n",
    "# Emptylist2 and Emptylist 3 to keep track of order type.\n",
    "# These columns will be added in later on in the code.\n",
    "def get_last_one(DF,n):\n",
    "    emptylist = []\n",
    "    emptylist2=[]\n",
    "    emptylist3 = [0]\n",
    "    for i in range(n):\n",
    "        if DF.loc[i,'Position'] == 1:\n",
    "            emptylist.append(i)\n",
    "            emptylist2.append(1)\n",
    "        elif DF.loc[i,'Position'] == -1:\n",
    "            emptylist.append(i)\n",
    "            emptylist2.append(-1)\n",
    "        elif DF.loc[i,'Position'] == 2:\n",
    "            emptylist3.append(i)\n",
    "    return (emptylist[-1],emptylist2[-1],emptylist3[-1])\n",
    "\n",
    "print(df[21:30])"
   ]
  },
  {
   "cell_type": "code",
   "execution_count": 21,
   "metadata": {},
   "outputs": [
    {
     "name": "stdout",
     "output_type": "stream",
     "text": [
      "               datetime    Close  BBands_High  BBands_Low  Position1\n",
      "30  2017-04-28 21:30:00  1.08968     1.089907    1.089621          0\n",
      "31  2017-04-28 21:31:00  1.08956     1.089905    1.089624          1\n",
      "32  2017-04-28 21:32:00  1.08944     1.089952    1.089554          1\n",
      "33  2017-04-28 21:33:00  1.08944     1.089980    1.089495          1\n",
      "34  2017-04-28 21:34:00  1.08943     1.089993    1.089443          1\n",
      "35  2017-04-28 21:35:00  1.08933     1.090018    1.089372          1\n",
      "36  2017-04-28 21:36:00  1.08932     1.090034    1.089311          1\n",
      "37  2017-04-28 21:37:00  1.08942     1.090035    1.089280          1\n",
      "38  2017-04-28 21:38:00  1.08931     1.090041    1.089230          1\n",
      "39  2017-04-28 21:39:00  1.08931     1.090036    1.089188          1\n",
      "40  2017-04-28 21:40:00  1.08926     1.090022    1.089145          1\n",
      "41  2017-04-28 21:41:00  1.08921     1.090005    1.089100          1\n",
      "42  2017-04-28 21:42:00  1.08924     1.089978    1.089069          1\n",
      "43  2017-04-28 21:43:00  1.08943     1.089936    1.089071          0\n"
     ]
    }
   ],
   "source": [
    "# To determine position, 1 means buy, then will continuously hold, -1 is sell, 0 is no position, 2 means close trade\n",
    "df['Position1'] = 0\n",
    "df['Position'] = 0\n",
    "\n",
    "# Buy and Sell respectively\n",
    "for i in df.index:\n",
    "    if df.loc[i,'Close'] <= df.loc[i,'BBands_Low']:\n",
    "        df.loc[i,'Position1'] = 1\n",
    "    elif df.loc[i,'Close'] >= df.loc[i,'BBands_High']:\n",
    "        df.loc[i,'Position1'] = -1\n",
    "    elif i>=1 and df.loc[i-1,'Position1'] == 1 and \\\n",
    "        (df.loc[i,'Mean']-df.loc[i,'Close'])>=0.0002:\n",
    "        df.loc[i,'Position1'] = 1\n",
    "    elif i>=1 and df.loc[i-1,'Position1'] == -1 and \\\n",
    "        (df.loc[i,'Close']-df.loc[i,'Mean'])>=0.0002:\n",
    "        df.loc[i,'Position1'] = -1        \n",
    "\n",
    "# As an example demonstration only, we would not know the index where a position is entered in practice\n",
    "# Where 'Position1' is 1, a long order is entered and held until 'Position1' is no longer 1\n",
    "print (df[['datetime','Close','BBands_High','BBands_Low','Position1']][30:44])"
   ]
  },
  {
   "cell_type": "code",
   "execution_count": 22,
   "metadata": {},
   "outputs": [
    {
     "name": "stdout",
     "output_type": "stream",
     "text": [
      "               datetime    Close      Mean  BBands_High  BBands_Low  Position\n",
      "30  2017-04-28 21:30:00  1.08968  1.089764     1.089907    1.089621         0\n",
      "31  2017-04-28 21:31:00  1.08956  1.089764     1.089905    1.089624         1\n",
      "32  2017-04-28 21:32:00  1.08944  1.089753     1.089952    1.089554         0\n",
      "33  2017-04-28 21:33:00  1.08944  1.089737     1.089980    1.089495         0\n",
      "34  2017-04-28 21:34:00  1.08943  1.089718     1.089993    1.089443         0\n",
      "35  2017-04-28 21:35:00  1.08933  1.089695     1.090018    1.089372         0\n",
      "36  2017-04-28 21:36:00  1.08932  1.089672     1.090034    1.089311         0\n",
      "37  2017-04-28 21:37:00  1.08942  1.089657     1.090035    1.089280         0\n",
      "38  2017-04-28 21:38:00  1.08931  1.089635     1.090041    1.089230         0\n",
      "39  2017-04-28 21:39:00  1.08931  1.089612     1.090036    1.089188         0\n",
      "40  2017-04-28 21:40:00  1.08926  1.089584     1.090022    1.089145         0\n",
      "41  2017-04-28 21:41:00  1.08921  1.089553     1.090005    1.089100         0\n",
      "42  2017-04-28 21:42:00  1.08924  1.089524     1.089978    1.089069         0\n",
      "43  2017-04-28 21:43:00  1.08943  1.089504     1.089936    1.089071         2\n"
     ]
    }
   ],
   "source": [
    "# Adjust so that in 'Position' column there will be a visible 'transition' from holding to selling\n",
    "for i in df.index:\n",
    "    if i>=1 and df.loc[i,'Position1'] == 1 and df.loc[i-1,'Position1'] ==0:\n",
    "        df.loc[i,'Position'] =1\n",
    "    if i>=1 and df.loc[i,'Position1'] == -1 and df.loc[i-1,'Position1'] ==0:\n",
    "        df.loc[i,'Position'] =-1\n",
    "    elif i>=1 and df.loc[i,'Position1'] == 0 and df.loc[i-1,'Position1'] !=0:\n",
    "        df.loc[i,'Position'] =2\n",
    "df['Position'] = df['Position'].astype(np.int)\n",
    "del df['Position1']\n",
    "\n",
    "# As an example demonstration only, we would not know the index where a position is entered in practice\n",
    "# Where 'Position' is 1, a long order is entered, and 'Position' is 2 means position is exited\n",
    "print (df[30:44])"
   ]
  },
  {
   "cell_type": "code",
   "execution_count": 23,
   "metadata": {},
   "outputs": [
    {
     "name": "stdout",
     "output_type": "stream",
     "text": [
      "               datetime    Close  BBands_High  BBands_Low  Pip Diff\n",
      "30  2017-04-28 21:30:00  1.08968     1.089907    1.089621   0.00000\n",
      "31  2017-04-28 21:31:00  1.08956     1.089905    1.089624   0.00000\n",
      "32  2017-04-28 21:32:00  1.08944     1.089952    1.089554   0.00000\n",
      "33  2017-04-28 21:33:00  1.08944     1.089980    1.089495   0.00000\n",
      "34  2017-04-28 21:34:00  1.08943     1.089993    1.089443   0.00000\n",
      "35  2017-04-28 21:35:00  1.08933     1.090018    1.089372   0.00000\n",
      "36  2017-04-28 21:36:00  1.08932     1.090034    1.089311   0.00000\n",
      "37  2017-04-28 21:37:00  1.08942     1.090035    1.089280   0.00000\n",
      "38  2017-04-28 21:38:00  1.08931     1.090041    1.089230   0.00000\n",
      "39  2017-04-28 21:39:00  1.08931     1.090036    1.089188   0.00000\n",
      "40  2017-04-28 21:40:00  1.08926     1.090022    1.089145   0.00000\n",
      "41  2017-04-28 21:41:00  1.08921     1.090005    1.089100   0.00000\n",
      "42  2017-04-28 21:42:00  1.08924     1.089978    1.089069   0.00000\n",
      "43  2017-04-28 21:43:00  1.08943     1.089936    1.089071  -0.00013\n"
     ]
    }
   ],
   "source": [
    "#To determine pip difference\n",
    "df['Pip Diff'] = 0\n",
    "\n",
    "# get_last_one function is used here, this is to tell which reference points should be used to calculate pip difference.\n",
    "for i in df.index:\n",
    "    if df.loc[i,'Position'] == 2:\n",
    "        magic_index = get_last_one(df,i)[0]\n",
    "        magic_buysell = get_last_one(df,i)[1]\n",
    "        if magic_buysell == 1:\n",
    "            df.loc[i,'Pip Diff'] = df.loc[i,'Close'] -df.loc[magic_index,'Close']\n",
    "        elif magic_buysell == -1:\n",
    "            df.loc[i,'Pip Diff'] = df.loc[magic_index,'Close'] -df.loc[i,'Close']\n",
    "\n",
    "# As an example demonstration only, we would not know the index where a position is entered in practice\n",
    "print (df[['datetime','Close','BBands_High','BBands_Low','Pip Diff']][30:44])"
   ]
  },
  {
   "cell_type": "code",
   "execution_count": 27,
   "metadata": {},
   "outputs": [
    {
     "name": "stdout",
     "output_type": "stream",
     "text": [
      "First Order\n",
      "               datetime  Position Size  Profit  Commission      Balance\n",
      "30  2017-04-28 21:30:00           0.00    0.00      0.0000  100000.0000\n",
      "31  2017-04-28 21:31:00           0.00    0.00      0.0000  100000.0000\n",
      "32  2017-04-28 21:32:00           0.00    0.00      0.0000  100000.0000\n",
      "33  2017-04-28 21:33:00           0.00    0.00      0.0000  100000.0000\n",
      "34  2017-04-28 21:34:00           0.00    0.00      0.0000  100000.0000\n",
      "35  2017-04-28 21:35:00           0.00    0.00      0.0000  100000.0000\n",
      "36  2017-04-28 21:36:00           0.00    0.00      0.0000  100000.0000\n",
      "37  2017-04-28 21:37:00           0.00    0.00      0.0000  100000.0000\n",
      "38  2017-04-28 21:38:00           0.00    0.00      0.0000  100000.0000\n",
      "39  2017-04-28 21:39:00           0.00    0.00      0.0000  100000.0000\n",
      "40  2017-04-28 21:40:00           0.00    0.00      0.0000  100000.0000\n",
      "41  2017-04-28 21:41:00           0.00    0.00      0.0000  100000.0000\n",
      "42  2017-04-28 21:42:00           0.00    0.00      0.0000  100000.0000\n",
      "43  2017-04-28 21:43:00           1.84  -23.92    -13.8368   99962.2432\n",
      "44  2017-04-28 21:44:00           0.00    0.00      0.0000   99962.2432\n",
      " \n",
      "Second Order\n",
      "               datetime  Position Size  Profit  Commission     Balance\n",
      "55  2017-04-28 21:55:00           0.00    0.00      0.0000  99962.2432\n",
      "56  2017-04-28 21:56:00           0.00    0.00      0.0000  99962.2432\n",
      "57  2017-04-28 21:57:00           1.84   11.04    -13.8368  99959.4464\n",
      "58  2017-04-28 21:58:00           0.00    0.00      0.0000  99959.4464\n",
      "59  2017-04-28 21:59:00           0.00    0.00      0.0000  99959.4464\n"
     ]
    }
   ],
   "source": [
    "# Simulation of a trader bot, parameters as outlined here\n",
    "df['Position Size'] = 0\n",
    "df['Profit'] = 0\n",
    "df['Commission'] = 0\n",
    "df['Balance'] = 100000\n",
    "\n",
    "# Calculate cumulative balance\n",
    "for i in df.index:\n",
    "    if i>=1:\n",
    "        df.loc[i,'Balance'] = df.loc[i-1,'Balance']\n",
    "        \n",
    "    # Calculate position size (based on entry, thus get_last_one function is required)\n",
    "    if df.loc[i,'Position'] == 2:\n",
    "        magic_index2 = get_last_one(df,i)[0]\n",
    "        df.loc[i, 'Position Size'] = round(df.loc[magic_index2, 'Balance']*0.02/df.loc[magic_index2,'Close']/1000,2)\n",
    "        \n",
    "        # Calculate profit\n",
    "        df['Profit'] = df['Pip Diff'] * df['Position Size'] * 100000\n",
    "        \n",
    "        # Calculate commission, assumed that there is no bid ask spread but rather commission is a flat rate at 3.76%\n",
    "        # This is based on a broker called Pepperstone, which offers flat commission instead of bid ask spread\n",
    "        df.loc[i,'Commission'] = df.loc[i,'Position Size']*3.76*-2\n",
    "\n",
    "    df.loc[i,'Balance'] = df.loc[i,'Balance'] + df.loc[i,'Profit'] + df.loc[i,'Commission']\n",
    "    \n",
    "# As always, only for illustration purposes as we would not know when position is entered\n",
    "# There are 2 positions entered during the hour\n",
    "print(\"First Order\")\n",
    "print(df[['datetime','Position Size', 'Profit', 'Commission', 'Balance']][30:45])\n",
    "print(\" \")\n",
    "print(\"Second Order\")\n",
    "print(df[['datetime','Position Size', 'Profit', 'Commission', 'Balance']][55:60])"
   ]
  },
  {
   "cell_type": "code",
   "execution_count": 28,
   "metadata": {},
   "outputs": [
    {
     "name": "stdout",
     "output_type": "stream",
     "text": [
      "All positions closed.\n",
      "Number of trades taken is: 2\n",
      "Final Balance is 99959.45\n"
     ]
    }
   ],
   "source": [
    "# Check for open positions at the end, as we would like to calculate equity, not the raw balance in the account\n",
    "if get_last_one(df,df.index[-1])[2] < get_last_one(df,df.index[-1])[0]:\n",
    "    print(\"Warning: Final Position Not CLosed!\")\n",
    "else:\n",
    "    print(\"All positions closed.\")\n",
    "\n",
    "# Calculate total number of trades entered\n",
    "asum = 0\n",
    "for i in df.index:\n",
    "    if df.loc[i,'Position'] == 2:\n",
    "        asum += 1\n",
    "        \n",
    "# Print out final metrics of the backtest\n",
    "print(\"Number of trades taken is:\",asum)\n",
    "print(\"Final Balance is\", round(df.loc[df.index[-1],'Balance'],2))"
   ]
  }
 ],
 "metadata": {
  "kernelspec": {
   "display_name": "Python 3",
   "language": "python",
   "name": "python3"
  },
  "language_info": {
   "codemirror_mode": {
    "name": "ipython",
    "version": 3
   },
   "file_extension": ".py",
   "mimetype": "text/x-python",
   "name": "python",
   "nbconvert_exporter": "python",
   "pygments_lexer": "ipython3",
   "version": "3.7.7"
  }
 },
 "nbformat": 4,
 "nbformat_minor": 4
}
