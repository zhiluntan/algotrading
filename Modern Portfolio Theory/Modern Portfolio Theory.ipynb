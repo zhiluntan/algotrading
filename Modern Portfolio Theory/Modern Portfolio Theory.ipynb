{
 "cells": [
  {
   "cell_type": "markdown",
   "metadata": {},
   "source": [
    "### Title: Modern Portfolio Theory - Applied on Berkshire Hathaway's Portfolio\n",
    "Author: Tan Zhi Lun   \n",
    "Contact: zhilun296@gmail.com"
   ]
  },
  {
   "cell_type": "markdown",
   "metadata": {},
   "source": [
    "Modern Portfolio Theory, or Mean-Variance Analysis is one of the most well respected theories on how investors can construct a portfolio which maximizes their return or minimizes their volatility.  \n",
    "\n",
    "This often involves identifying an efficient frontier (in the µ-σ space), and all other portfolios not on the efficient frontier are considered to be inefficient, as there are portfolios with higher expected return or lower standard deviation available.  \n",
    "Below is an illustration of the efficient frontier:"
   ]
  },
  {
   "cell_type": "markdown",
   "metadata": {},
   "source": [
    "<img src = \"Images/efficientfrontier.jpg\" width = 400>"
   ]
  },
  {
   "cell_type": "markdown",
   "metadata": {},
   "source": [
    "In this exercise, we will be constructing two portfolios that:\n",
    "1. Minimizes variance and standard deviation (implying quadratic utility curve); and \n",
    "2. Maximizes Sharpe Ratio  \n",
    "\n",
    "respectively.  \n",
    "\n",
    "Points to note:\n",
    "1. Note that this exercise also 'doubles as' an attempt to reconstruct Berkshire Hathaway's portfolio. To avoid having to deal with the innumerable securities available, we will be defining our investment universe as securities currently in Berkshire Hathaway's portfolio as of Aug 2020, reducing our computational requirements and also giving us an insight of how MPT suggests their portfolio would be constructed.\n",
    "2. While in reality Lagrangian functions/Lagrangian multipliers may be used, we will be utilizing the PyPortfolioOpt library to determine the efficient frontier and identify the portfolios meeting our criteria.\n",
    "\n",
    "The discussion will be split into two parts.  \n",
    "**1. Handling the Data**  \n",
    "**2. Portfolio Optimization**"
   ]
  },
  {
   "cell_type": "markdown",
   "metadata": {},
   "source": [
    "## 1. Handling the Data"
   ]
  },
  {
   "cell_type": "code",
   "execution_count": 1,
   "metadata": {},
   "outputs": [],
   "source": [
    "from pandas_datareader import data as web\n",
    "import pandas as pd\n",
    "import numpy as np\n",
    "from datetime import datetime\n",
    "from datetime import timedelta"
   ]
  },
  {
   "cell_type": "markdown",
   "metadata": {},
   "source": [
    "As mentioned, we will be defining our investment universe as securities that are currently in Berkshire Hathaway's portfolio (as of Aug 2020)."
   ]
  },
  {
   "cell_type": "code",
   "execution_count": 2,
   "metadata": {},
   "outputs": [
    {
     "data": {
      "text/plain": [
       "datetime.datetime(2017, 9, 5, 17, 30, 32, 302715)"
      ]
     },
     "execution_count": 2,
     "metadata": {},
     "output_type": "execute_result"
    }
   ],
   "source": [
    "universe=['AMZN','AXP','AAPL','AXTA','BAC','BK','GOLD','BIIB','CHTR','KO','COST','DVA','GM','GL','JNJ','JPM',\n",
    "         'KHC','KR','LBTYA','LBTYK','LILA','LILAK','LSXMA','LSXMK','MTB','MA','MDLZ','MCO','PNC','PG','RH',\n",
    "         'SIRI','SPY','STNE','STOR','SU','SYF','TEVA','USB','UPS','VOO','VRSN','V','WFC']\n",
    "today_date=datetime.today()\n",
    "start_date=today_date-timedelta(days=3*365)\n",
    "start_date"
   ]
  },
  {
   "cell_type": "markdown",
   "metadata": {},
   "source": [
    "As a temporary measure for part 1 (before optimizing our portfolio), let us set weightage in each asset to be 1/N, where N is the number of securities in our universe."
   ]
  },
  {
   "cell_type": "code",
   "execution_count": null,
   "metadata": {},
   "outputs": [],
   "source": [
    "weights=np.full(len(universe),1/len(universe))"
   ]
  },
  {
   "cell_type": "markdown",
   "metadata": {},
   "source": [
    "We will be using yahoo as our data source. Note that we take the adjusted close as it is the most logical and usual convention to use this value for calculations."
   ]
  },
  {
   "cell_type": "code",
   "execution_count": 5,
   "metadata": {},
   "outputs": [
    {
     "data": {
      "text/html": [
       "<div>\n",
       "<style scoped>\n",
       "    .dataframe tbody tr th:only-of-type {\n",
       "        vertical-align: middle;\n",
       "    }\n",
       "\n",
       "    .dataframe tbody tr th {\n",
       "        vertical-align: top;\n",
       "    }\n",
       "\n",
       "    .dataframe thead th {\n",
       "        text-align: right;\n",
       "    }\n",
       "</style>\n",
       "<table border=\"1\" class=\"dataframe\">\n",
       "  <thead>\n",
       "    <tr style=\"text-align: right;\">\n",
       "      <th></th>\n",
       "      <th>AMZN</th>\n",
       "      <th>AXP</th>\n",
       "      <th>AAPL</th>\n",
       "      <th>AXTA</th>\n",
       "      <th>BAC</th>\n",
       "      <th>BK</th>\n",
       "      <th>GOLD</th>\n",
       "      <th>BIIB</th>\n",
       "      <th>CHTR</th>\n",
       "      <th>KO</th>\n",
       "      <th>...</th>\n",
       "      <th>STOR</th>\n",
       "      <th>SU</th>\n",
       "      <th>SYF</th>\n",
       "      <th>TEVA</th>\n",
       "      <th>USB</th>\n",
       "      <th>UPS</th>\n",
       "      <th>VOO</th>\n",
       "      <th>VRSN</th>\n",
       "      <th>V</th>\n",
       "      <th>WFC</th>\n",
       "    </tr>\n",
       "    <tr>\n",
       "      <th>Date</th>\n",
       "      <th></th>\n",
       "      <th></th>\n",
       "      <th></th>\n",
       "      <th></th>\n",
       "      <th></th>\n",
       "      <th></th>\n",
       "      <th></th>\n",
       "      <th></th>\n",
       "      <th></th>\n",
       "      <th></th>\n",
       "      <th></th>\n",
       "      <th></th>\n",
       "      <th></th>\n",
       "      <th></th>\n",
       "      <th></th>\n",
       "      <th></th>\n",
       "      <th></th>\n",
       "      <th></th>\n",
       "      <th></th>\n",
       "      <th></th>\n",
       "      <th></th>\n",
       "    </tr>\n",
       "  </thead>\n",
       "  <tbody>\n",
       "    <tr>\n",
       "      <th>2017-09-05</th>\n",
       "      <td>965.270020</td>\n",
       "      <td>85.309998</td>\n",
       "      <td>40.520000</td>\n",
       "      <td>29.129999</td>\n",
       "      <td>23.309999</td>\n",
       "      <td>51.200001</td>\n",
       "      <td>18.219999</td>\n",
       "      <td>315.829987</td>\n",
       "      <td>393.320007</td>\n",
       "      <td>45.919998</td>\n",
       "      <td>...</td>\n",
       "      <td>25.290001</td>\n",
       "      <td>31.830000</td>\n",
       "      <td>29.870001</td>\n",
       "      <td>15.41</td>\n",
       "      <td>50.869999</td>\n",
       "      <td>113.919998</td>\n",
       "      <td>226.009995</td>\n",
       "      <td>102.540001</td>\n",
       "      <td>103.010002</td>\n",
       "      <td>50.099998</td>\n",
       "    </tr>\n",
       "    <tr>\n",
       "      <th>2017-09-06</th>\n",
       "      <td>967.799988</td>\n",
       "      <td>85.230003</td>\n",
       "      <td>40.477501</td>\n",
       "      <td>29.020000</td>\n",
       "      <td>23.410000</td>\n",
       "      <td>51.270000</td>\n",
       "      <td>17.850000</td>\n",
       "      <td>317.359985</td>\n",
       "      <td>402.500000</td>\n",
       "      <td>45.959999</td>\n",
       "      <td>...</td>\n",
       "      <td>25.290001</td>\n",
       "      <td>32.540001</td>\n",
       "      <td>29.959999</td>\n",
       "      <td>15.52</td>\n",
       "      <td>50.910000</td>\n",
       "      <td>113.809998</td>\n",
       "      <td>226.800003</td>\n",
       "      <td>102.790001</td>\n",
       "      <td>103.180000</td>\n",
       "      <td>49.880001</td>\n",
       "    </tr>\n",
       "    <tr>\n",
       "      <th>2017-09-07</th>\n",
       "      <td>979.469971</td>\n",
       "      <td>84.410004</td>\n",
       "      <td>40.314999</td>\n",
       "      <td>28.719999</td>\n",
       "      <td>22.969999</td>\n",
       "      <td>50.279999</td>\n",
       "      <td>18.000000</td>\n",
       "      <td>323.899994</td>\n",
       "      <td>395.640015</td>\n",
       "      <td>46.279999</td>\n",
       "      <td>...</td>\n",
       "      <td>25.500000</td>\n",
       "      <td>32.889999</td>\n",
       "      <td>29.059999</td>\n",
       "      <td>15.47</td>\n",
       "      <td>49.860001</td>\n",
       "      <td>114.669998</td>\n",
       "      <td>226.750000</td>\n",
       "      <td>103.480003</td>\n",
       "      <td>104.559998</td>\n",
       "      <td>49.680000</td>\n",
       "    </tr>\n",
       "    <tr>\n",
       "      <th>2017-09-08</th>\n",
       "      <td>965.900024</td>\n",
       "      <td>84.250000</td>\n",
       "      <td>39.657501</td>\n",
       "      <td>28.450001</td>\n",
       "      <td>22.889999</td>\n",
       "      <td>50.430000</td>\n",
       "      <td>17.809999</td>\n",
       "      <td>326.329987</td>\n",
       "      <td>392.899994</td>\n",
       "      <td>46.299999</td>\n",
       "      <td>...</td>\n",
       "      <td>25.719999</td>\n",
       "      <td>32.709999</td>\n",
       "      <td>28.549999</td>\n",
       "      <td>15.50</td>\n",
       "      <td>49.980000</td>\n",
       "      <td>115.050003</td>\n",
       "      <td>226.399994</td>\n",
       "      <td>103.309998</td>\n",
       "      <td>104.430000</td>\n",
       "      <td>49.580002</td>\n",
       "    </tr>\n",
       "    <tr>\n",
       "      <th>2017-09-11</th>\n",
       "      <td>977.960022</td>\n",
       "      <td>85.690002</td>\n",
       "      <td>40.375000</td>\n",
       "      <td>28.860001</td>\n",
       "      <td>23.360001</td>\n",
       "      <td>51.529999</td>\n",
       "      <td>17.410000</td>\n",
       "      <td>326.540009</td>\n",
       "      <td>381.010010</td>\n",
       "      <td>46.520000</td>\n",
       "      <td>...</td>\n",
       "      <td>25.889999</td>\n",
       "      <td>33.080002</td>\n",
       "      <td>29.150000</td>\n",
       "      <td>18.50</td>\n",
       "      <td>50.880001</td>\n",
       "      <td>116.199997</td>\n",
       "      <td>228.869995</td>\n",
       "      <td>104.650002</td>\n",
       "      <td>106.150002</td>\n",
       "      <td>50.660000</td>\n",
       "    </tr>\n",
       "  </tbody>\n",
       "</table>\n",
       "<p>5 rows × 44 columns</p>\n",
       "</div>"
      ],
      "text/plain": [
       "                  AMZN        AXP       AAPL       AXTA        BAC         BK  \\\n",
       "Date                                                                            \n",
       "2017-09-05  965.270020  85.309998  40.520000  29.129999  23.309999  51.200001   \n",
       "2017-09-06  967.799988  85.230003  40.477501  29.020000  23.410000  51.270000   \n",
       "2017-09-07  979.469971  84.410004  40.314999  28.719999  22.969999  50.279999   \n",
       "2017-09-08  965.900024  84.250000  39.657501  28.450001  22.889999  50.430000   \n",
       "2017-09-11  977.960022  85.690002  40.375000  28.860001  23.360001  51.529999   \n",
       "\n",
       "                 GOLD        BIIB        CHTR         KO  ...       STOR  \\\n",
       "Date                                                      ...              \n",
       "2017-09-05  18.219999  315.829987  393.320007  45.919998  ...  25.290001   \n",
       "2017-09-06  17.850000  317.359985  402.500000  45.959999  ...  25.290001   \n",
       "2017-09-07  18.000000  323.899994  395.640015  46.279999  ...  25.500000   \n",
       "2017-09-08  17.809999  326.329987  392.899994  46.299999  ...  25.719999   \n",
       "2017-09-11  17.410000  326.540009  381.010010  46.520000  ...  25.889999   \n",
       "\n",
       "                   SU        SYF   TEVA        USB         UPS         VOO  \\\n",
       "Date                                                                         \n",
       "2017-09-05  31.830000  29.870001  15.41  50.869999  113.919998  226.009995   \n",
       "2017-09-06  32.540001  29.959999  15.52  50.910000  113.809998  226.800003   \n",
       "2017-09-07  32.889999  29.059999  15.47  49.860001  114.669998  226.750000   \n",
       "2017-09-08  32.709999  28.549999  15.50  49.980000  115.050003  226.399994   \n",
       "2017-09-11  33.080002  29.150000  18.50  50.880001  116.199997  228.869995   \n",
       "\n",
       "                  VRSN           V        WFC  \n",
       "Date                                           \n",
       "2017-09-05  102.540001  103.010002  50.099998  \n",
       "2017-09-06  102.790001  103.180000  49.880001  \n",
       "2017-09-07  103.480003  104.559998  49.680000  \n",
       "2017-09-08  103.309998  104.430000  49.580002  \n",
       "2017-09-11  104.650002  106.150002  50.660000  \n",
       "\n",
       "[5 rows x 44 columns]"
      ]
     },
     "execution_count": 5,
     "metadata": {},
     "output_type": "execute_result"
    }
   ],
   "source": [
    "for i in universe:\n",
    "    df[i]=web.DataReader(i,data_source='yahoo',start=start_date,end=today_date)['Adj Close']\n",
    "df.head()"
   ]
  },
  {
   "cell_type": "markdown",
   "metadata": {},
   "source": [
    "The returns will be compounded daily, and the figures given are the expected return of each asset annually.   \n",
    "We take the size divided by 3 as the number of trading days per year are not 365 but typically 252 instead."
   ]
  },
  {
   "cell_type": "code",
   "execution_count": 6,
   "metadata": {},
   "outputs": [
    {
     "data": {
      "text/plain": [
       "AMZN    0.517565\n",
       "AXP     0.069930\n",
       "AAPL    0.440250\n",
       "AXTA   -0.073425\n",
       "BAC     0.032579\n",
       "BK     -0.103963\n",
       "dtype: float64"
      ]
     },
     "execution_count": 6,
     "metadata": {},
     "output_type": "execute_result"
    }
   ],
   "source": [
    "returns = df.pct_change()\n",
    "compound_returns = (1+returns).prod()**(returns['AMZN'].size/3/returns.count()) -1\n",
    "compound_returns"
   ]
  },
  {
   "cell_type": "code",
   "execution_count": 7,
   "metadata": {},
   "outputs": [
    {
     "data": {
      "text/plain": [
       "Date\n",
       "2017-09-05   NaN\n",
       "Name: AMZN, dtype: float64"
      ]
     },
     "execution_count": 7,
     "metadata": {},
     "output_type": "execute_result"
    }
   ],
   "source": [
    "# To make sure that there are no other na values\n",
    "# The first row is expected to be na as we are measuring percentage change\n",
    "filt = returns['AMZN'].isna()\n",
    "returns['AMZN'].loc[filt]"
   ]
  },
  {
   "cell_type": "code",
   "execution_count": 8,
   "metadata": {},
   "outputs": [
    {
     "data": {
      "text/plain": [
       "756"
      ]
     },
     "execution_count": 8,
     "metadata": {},
     "output_type": "execute_result"
    }
   ],
   "source": [
    "returns['AMZN'].size"
   ]
  },
  {
   "cell_type": "markdown",
   "metadata": {},
   "source": [
    "One of the most important properties of the MPT is that it relies heavily on the covariance matrix, as we will calculate below. Also, we see that with a uniform stake of 1/N in each asset, we get an annual portfolio return of 6.52%, and standard deviation of 25%."
   ]
  },
  {
   "cell_type": "code",
   "execution_count": 9,
   "metadata": {},
   "outputs": [
    {
     "name": "stdout",
     "output_type": "stream",
     "text": [
      "Portfolio variance: 6.0 %\n",
      "Portfolio S.D.: 25.0 %\n"
     ]
    }
   ],
   "source": [
    "annual_cov_mat = returns.cov()*returns['AMZN'].size/3\n",
    "annual_port_var = np.dot(weights.T,np.dot(annual_cov_mat,weights))\n",
    "print(\"Portfolio variance:\",round(annual_port_var,2)*100,\"%\")\n",
    "print(\"Portfolio S.D.:\",round(np.sqrt(annual_port_var),2)*100,\"%\")"
   ]
  },
  {
   "cell_type": "code",
   "execution_count": 10,
   "metadata": {},
   "outputs": [
    {
     "data": {
      "text/html": [
       "<div>\n",
       "<style scoped>\n",
       "    .dataframe tbody tr th:only-of-type {\n",
       "        vertical-align: middle;\n",
       "    }\n",
       "\n",
       "    .dataframe tbody tr th {\n",
       "        vertical-align: top;\n",
       "    }\n",
       "\n",
       "    .dataframe thead th {\n",
       "        text-align: right;\n",
       "    }\n",
       "</style>\n",
       "<table border=\"1\" class=\"dataframe\">\n",
       "  <thead>\n",
       "    <tr style=\"text-align: right;\">\n",
       "      <th></th>\n",
       "      <th>AMZN</th>\n",
       "      <th>AXP</th>\n",
       "      <th>AAPL</th>\n",
       "      <th>AXTA</th>\n",
       "      <th>BAC</th>\n",
       "      <th>BK</th>\n",
       "      <th>GOLD</th>\n",
       "      <th>BIIB</th>\n",
       "      <th>CHTR</th>\n",
       "      <th>KO</th>\n",
       "      <th>...</th>\n",
       "      <th>STOR</th>\n",
       "      <th>SU</th>\n",
       "      <th>SYF</th>\n",
       "      <th>TEVA</th>\n",
       "      <th>USB</th>\n",
       "      <th>UPS</th>\n",
       "      <th>VOO</th>\n",
       "      <th>VRSN</th>\n",
       "      <th>V</th>\n",
       "      <th>WFC</th>\n",
       "    </tr>\n",
       "  </thead>\n",
       "  <tbody>\n",
       "    <tr>\n",
       "      <th>AMZN</th>\n",
       "      <td>0.104716</td>\n",
       "      <td>0.043624</td>\n",
       "      <td>0.068118</td>\n",
       "      <td>0.040073</td>\n",
       "      <td>0.045874</td>\n",
       "      <td>0.036227</td>\n",
       "      <td>0.011249</td>\n",
       "      <td>0.038604</td>\n",
       "      <td>0.037797</td>\n",
       "      <td>0.018849</td>\n",
       "      <td>...</td>\n",
       "      <td>0.023576</td>\n",
       "      <td>0.035688</td>\n",
       "      <td>0.041326</td>\n",
       "      <td>0.054090</td>\n",
       "      <td>0.032464</td>\n",
       "      <td>0.039992</td>\n",
       "      <td>0.045372</td>\n",
       "      <td>0.054051</td>\n",
       "      <td>0.053279</td>\n",
       "      <td>0.036615</td>\n",
       "    </tr>\n",
       "    <tr>\n",
       "      <th>AXP</th>\n",
       "      <td>0.043624</td>\n",
       "      <td>0.143075</td>\n",
       "      <td>0.070088</td>\n",
       "      <td>0.088918</td>\n",
       "      <td>0.116526</td>\n",
       "      <td>0.088530</td>\n",
       "      <td>0.009307</td>\n",
       "      <td>0.051487</td>\n",
       "      <td>0.049774</td>\n",
       "      <td>0.051180</td>\n",
       "      <td>...</td>\n",
       "      <td>0.094483</td>\n",
       "      <td>0.098508</td>\n",
       "      <td>0.146435</td>\n",
       "      <td>0.080612</td>\n",
       "      <td>0.105427</td>\n",
       "      <td>0.052967</td>\n",
       "      <td>0.069654</td>\n",
       "      <td>0.062643</td>\n",
       "      <td>0.086555</td>\n",
       "      <td>0.111141</td>\n",
       "    </tr>\n",
       "    <tr>\n",
       "      <th>AAPL</th>\n",
       "      <td>0.068118</td>\n",
       "      <td>0.070088</td>\n",
       "      <td>0.111562</td>\n",
       "      <td>0.054685</td>\n",
       "      <td>0.070407</td>\n",
       "      <td>0.051253</td>\n",
       "      <td>0.013412</td>\n",
       "      <td>0.047246</td>\n",
       "      <td>0.046242</td>\n",
       "      <td>0.033523</td>\n",
       "      <td>...</td>\n",
       "      <td>0.048041</td>\n",
       "      <td>0.058598</td>\n",
       "      <td>0.074152</td>\n",
       "      <td>0.067395</td>\n",
       "      <td>0.055406</td>\n",
       "      <td>0.050314</td>\n",
       "      <td>0.059742</td>\n",
       "      <td>0.060569</td>\n",
       "      <td>0.069305</td>\n",
       "      <td>0.059611</td>\n",
       "    </tr>\n",
       "    <tr>\n",
       "      <th>AXTA</th>\n",
       "      <td>0.040073</td>\n",
       "      <td>0.088918</td>\n",
       "      <td>0.054685</td>\n",
       "      <td>0.152095</td>\n",
       "      <td>0.086363</td>\n",
       "      <td>0.064936</td>\n",
       "      <td>0.002213</td>\n",
       "      <td>0.041071</td>\n",
       "      <td>0.048084</td>\n",
       "      <td>0.038050</td>\n",
       "      <td>...</td>\n",
       "      <td>0.080725</td>\n",
       "      <td>0.076586</td>\n",
       "      <td>0.109466</td>\n",
       "      <td>0.067660</td>\n",
       "      <td>0.081837</td>\n",
       "      <td>0.039900</td>\n",
       "      <td>0.053376</td>\n",
       "      <td>0.045309</td>\n",
       "      <td>0.062765</td>\n",
       "      <td>0.080413</td>\n",
       "    </tr>\n",
       "    <tr>\n",
       "      <th>BAC</th>\n",
       "      <td>0.045874</td>\n",
       "      <td>0.116526</td>\n",
       "      <td>0.070407</td>\n",
       "      <td>0.086363</td>\n",
       "      <td>0.139998</td>\n",
       "      <td>0.095808</td>\n",
       "      <td>-0.002074</td>\n",
       "      <td>0.060689</td>\n",
       "      <td>0.046922</td>\n",
       "      <td>0.047204</td>\n",
       "      <td>...</td>\n",
       "      <td>0.079223</td>\n",
       "      <td>0.087564</td>\n",
       "      <td>0.134459</td>\n",
       "      <td>0.090336</td>\n",
       "      <td>0.115477</td>\n",
       "      <td>0.061203</td>\n",
       "      <td>0.069306</td>\n",
       "      <td>0.059048</td>\n",
       "      <td>0.076744</td>\n",
       "      <td>0.122854</td>\n",
       "    </tr>\n",
       "  </tbody>\n",
       "</table>\n",
       "<p>5 rows × 44 columns</p>\n",
       "</div>"
      ],
      "text/plain": [
       "          AMZN       AXP      AAPL      AXTA       BAC        BK      GOLD  \\\n",
       "AMZN  0.104716  0.043624  0.068118  0.040073  0.045874  0.036227  0.011249   \n",
       "AXP   0.043624  0.143075  0.070088  0.088918  0.116526  0.088530  0.009307   \n",
       "AAPL  0.068118  0.070088  0.111562  0.054685  0.070407  0.051253  0.013412   \n",
       "AXTA  0.040073  0.088918  0.054685  0.152095  0.086363  0.064936  0.002213   \n",
       "BAC   0.045874  0.116526  0.070407  0.086363  0.139998  0.095808 -0.002074   \n",
       "\n",
       "          BIIB      CHTR        KO  ...      STOR        SU       SYF  \\\n",
       "AMZN  0.038604  0.037797  0.018849  ...  0.023576  0.035688  0.041326   \n",
       "AXP   0.051487  0.049774  0.051180  ...  0.094483  0.098508  0.146435   \n",
       "AAPL  0.047246  0.046242  0.033523  ...  0.048041  0.058598  0.074152   \n",
       "AXTA  0.041071  0.048084  0.038050  ...  0.080725  0.076586  0.109466   \n",
       "BAC   0.060689  0.046922  0.047204  ...  0.079223  0.087564  0.134459   \n",
       "\n",
       "          TEVA       USB       UPS       VOO      VRSN         V       WFC  \n",
       "AMZN  0.054090  0.032464  0.039992  0.045372  0.054051  0.053279  0.036615  \n",
       "AXP   0.080612  0.105427  0.052967  0.069654  0.062643  0.086555  0.111141  \n",
       "AAPL  0.067395  0.055406  0.050314  0.059742  0.060569  0.069305  0.059611  \n",
       "AXTA  0.067660  0.081837  0.039900  0.053376  0.045309  0.062765  0.080413  \n",
       "BAC   0.090336  0.115477  0.061203  0.069306  0.059048  0.076744  0.122854  \n",
       "\n",
       "[5 rows x 44 columns]"
      ]
     },
     "execution_count": 10,
     "metadata": {},
     "output_type": "execute_result"
    }
   ],
   "source": [
    "annual_cov_mat = returns.cov()*returns['AMZN'].size/3\n",
    "annual_cov_mat.head()"
   ]
  },
  {
   "cell_type": "code",
   "execution_count": 11,
   "metadata": {},
   "outputs": [
    {
     "name": "stdout",
     "output_type": "stream",
     "text": [
      "Expected annual portfolio return: 6.52 %\n"
     ]
    }
   ],
   "source": [
    "annual_port_return = (compound_returns*weights).sum()\n",
    "print(\"Expected annual portfolio return:\",round(annual_port_return*100,2),\"%\")"
   ]
  },
  {
   "cell_type": "markdown",
   "metadata": {},
   "source": [
    "## 2. Portfolio Optimization\n",
    "While traditionally Lagrangian functions are used to calculate the efficient frontier, we will be making use of the PyPortfolioOpt library for our exercise today instead."
   ]
  },
  {
   "cell_type": "code",
   "execution_count": 12,
   "metadata": {},
   "outputs": [],
   "source": [
    "from pypfopt.efficient_frontier import EfficientFrontier\n",
    "from pypfopt import risk_models\n",
    "from pypfopt import expected_returns"
   ]
  },
  {
   "cell_type": "markdown",
   "metadata": {},
   "source": [
    "If we compare these results with the ones that we calculated earlier, we see that the values are equal and that the library is functioning as expected."
   ]
  },
  {
   "cell_type": "code",
   "execution_count": 13,
   "metadata": {},
   "outputs": [
    {
     "name": "stdout",
     "output_type": "stream",
     "text": [
      "AMZN    0.517565\n",
      "AXP     0.069930\n",
      "AAPL    0.440250\n",
      "AXTA   -0.073425\n",
      "BAC     0.032579\n",
      "BK     -0.103963\n",
      "dtype: float64\n"
     ]
    },
    {
     "data": {
      "text/html": [
       "<div>\n",
       "<style scoped>\n",
       "    .dataframe tbody tr th:only-of-type {\n",
       "        vertical-align: middle;\n",
       "    }\n",
       "\n",
       "    .dataframe tbody tr th {\n",
       "        vertical-align: top;\n",
       "    }\n",
       "\n",
       "    .dataframe thead th {\n",
       "        text-align: right;\n",
       "    }\n",
       "</style>\n",
       "<table border=\"1\" class=\"dataframe\">\n",
       "  <thead>\n",
       "    <tr style=\"text-align: right;\">\n",
       "      <th></th>\n",
       "      <th>AMZN</th>\n",
       "      <th>AXP</th>\n",
       "      <th>AAPL</th>\n",
       "      <th>AXTA</th>\n",
       "      <th>BAC</th>\n",
       "      <th>BK</th>\n",
       "      <th>GOLD</th>\n",
       "      <th>BIIB</th>\n",
       "      <th>CHTR</th>\n",
       "      <th>KO</th>\n",
       "      <th>...</th>\n",
       "      <th>STOR</th>\n",
       "      <th>SU</th>\n",
       "      <th>SYF</th>\n",
       "      <th>TEVA</th>\n",
       "      <th>USB</th>\n",
       "      <th>UPS</th>\n",
       "      <th>VOO</th>\n",
       "      <th>VRSN</th>\n",
       "      <th>V</th>\n",
       "      <th>WFC</th>\n",
       "    </tr>\n",
       "  </thead>\n",
       "  <tbody>\n",
       "    <tr>\n",
       "      <th>AMZN</th>\n",
       "      <td>0.104716</td>\n",
       "      <td>0.043624</td>\n",
       "      <td>0.068118</td>\n",
       "      <td>0.040073</td>\n",
       "      <td>0.045874</td>\n",
       "      <td>0.036227</td>\n",
       "      <td>0.011249</td>\n",
       "      <td>0.038604</td>\n",
       "      <td>0.037797</td>\n",
       "      <td>0.018849</td>\n",
       "      <td>...</td>\n",
       "      <td>0.023576</td>\n",
       "      <td>0.035688</td>\n",
       "      <td>0.041326</td>\n",
       "      <td>0.054090</td>\n",
       "      <td>0.032464</td>\n",
       "      <td>0.039992</td>\n",
       "      <td>0.045372</td>\n",
       "      <td>0.054051</td>\n",
       "      <td>0.053279</td>\n",
       "      <td>0.036615</td>\n",
       "    </tr>\n",
       "    <tr>\n",
       "      <th>AXP</th>\n",
       "      <td>0.043624</td>\n",
       "      <td>0.143075</td>\n",
       "      <td>0.070088</td>\n",
       "      <td>0.088918</td>\n",
       "      <td>0.116526</td>\n",
       "      <td>0.088530</td>\n",
       "      <td>0.009307</td>\n",
       "      <td>0.051487</td>\n",
       "      <td>0.049774</td>\n",
       "      <td>0.051180</td>\n",
       "      <td>...</td>\n",
       "      <td>0.094483</td>\n",
       "      <td>0.098508</td>\n",
       "      <td>0.146435</td>\n",
       "      <td>0.080612</td>\n",
       "      <td>0.105427</td>\n",
       "      <td>0.052967</td>\n",
       "      <td>0.069654</td>\n",
       "      <td>0.062643</td>\n",
       "      <td>0.086555</td>\n",
       "      <td>0.111141</td>\n",
       "    </tr>\n",
       "    <tr>\n",
       "      <th>AAPL</th>\n",
       "      <td>0.068118</td>\n",
       "      <td>0.070088</td>\n",
       "      <td>0.111562</td>\n",
       "      <td>0.054685</td>\n",
       "      <td>0.070407</td>\n",
       "      <td>0.051253</td>\n",
       "      <td>0.013412</td>\n",
       "      <td>0.047246</td>\n",
       "      <td>0.046242</td>\n",
       "      <td>0.033523</td>\n",
       "      <td>...</td>\n",
       "      <td>0.048041</td>\n",
       "      <td>0.058598</td>\n",
       "      <td>0.074152</td>\n",
       "      <td>0.067395</td>\n",
       "      <td>0.055406</td>\n",
       "      <td>0.050314</td>\n",
       "      <td>0.059742</td>\n",
       "      <td>0.060569</td>\n",
       "      <td>0.069305</td>\n",
       "      <td>0.059611</td>\n",
       "    </tr>\n",
       "    <tr>\n",
       "      <th>AXTA</th>\n",
       "      <td>0.040073</td>\n",
       "      <td>0.088918</td>\n",
       "      <td>0.054685</td>\n",
       "      <td>0.152095</td>\n",
       "      <td>0.086363</td>\n",
       "      <td>0.064936</td>\n",
       "      <td>0.002213</td>\n",
       "      <td>0.041071</td>\n",
       "      <td>0.048084</td>\n",
       "      <td>0.038050</td>\n",
       "      <td>...</td>\n",
       "      <td>0.080725</td>\n",
       "      <td>0.076586</td>\n",
       "      <td>0.109466</td>\n",
       "      <td>0.067660</td>\n",
       "      <td>0.081837</td>\n",
       "      <td>0.039900</td>\n",
       "      <td>0.053376</td>\n",
       "      <td>0.045309</td>\n",
       "      <td>0.062765</td>\n",
       "      <td>0.080413</td>\n",
       "    </tr>\n",
       "    <tr>\n",
       "      <th>BAC</th>\n",
       "      <td>0.045874</td>\n",
       "      <td>0.116526</td>\n",
       "      <td>0.070407</td>\n",
       "      <td>0.086363</td>\n",
       "      <td>0.139998</td>\n",
       "      <td>0.095808</td>\n",
       "      <td>-0.002074</td>\n",
       "      <td>0.060689</td>\n",
       "      <td>0.046922</td>\n",
       "      <td>0.047204</td>\n",
       "      <td>...</td>\n",
       "      <td>0.079223</td>\n",
       "      <td>0.087564</td>\n",
       "      <td>0.134459</td>\n",
       "      <td>0.090336</td>\n",
       "      <td>0.115477</td>\n",
       "      <td>0.061203</td>\n",
       "      <td>0.069306</td>\n",
       "      <td>0.059048</td>\n",
       "      <td>0.076744</td>\n",
       "      <td>0.122854</td>\n",
       "    </tr>\n",
       "  </tbody>\n",
       "</table>\n",
       "<p>5 rows × 44 columns</p>\n",
       "</div>"
      ],
      "text/plain": [
       "          AMZN       AXP      AAPL      AXTA       BAC        BK      GOLD  \\\n",
       "AMZN  0.104716  0.043624  0.068118  0.040073  0.045874  0.036227  0.011249   \n",
       "AXP   0.043624  0.143075  0.070088  0.088918  0.116526  0.088530  0.009307   \n",
       "AAPL  0.068118  0.070088  0.111562  0.054685  0.070407  0.051253  0.013412   \n",
       "AXTA  0.040073  0.088918  0.054685  0.152095  0.086363  0.064936  0.002213   \n",
       "BAC   0.045874  0.116526  0.070407  0.086363  0.139998  0.095808 -0.002074   \n",
       "\n",
       "          BIIB      CHTR        KO  ...      STOR        SU       SYF  \\\n",
       "AMZN  0.038604  0.037797  0.018849  ...  0.023576  0.035688  0.041326   \n",
       "AXP   0.051487  0.049774  0.051180  ...  0.094483  0.098508  0.146435   \n",
       "AAPL  0.047246  0.046242  0.033523  ...  0.048041  0.058598  0.074152   \n",
       "AXTA  0.041071  0.048084  0.038050  ...  0.080725  0.076586  0.109466   \n",
       "BAC   0.060689  0.046922  0.047204  ...  0.079223  0.087564  0.134459   \n",
       "\n",
       "          TEVA       USB       UPS       VOO      VRSN         V       WFC  \n",
       "AMZN  0.054090  0.032464  0.039992  0.045372  0.054051  0.053279  0.036615  \n",
       "AXP   0.080612  0.105427  0.052967  0.069654  0.062643  0.086555  0.111141  \n",
       "AAPL  0.067395  0.055406  0.050314  0.059742  0.060569  0.069305  0.059611  \n",
       "AXTA  0.067660  0.081837  0.039900  0.053376  0.045309  0.062765  0.080413  \n",
       "BAC   0.090336  0.115477  0.061203  0.069306  0.059048  0.076744  0.122854  \n",
       "\n",
       "[5 rows x 44 columns]"
      ]
     },
     "execution_count": 13,
     "metadata": {},
     "output_type": "execute_result"
    }
   ],
   "source": [
    "miu = expected_returns.mean_historical_return(df)\n",
    "print(miu[0:6])\n",
    "sample_cov_matrix = risk_models.sample_cov(df) #Already annualized\n",
    "sample_cov_matrix.head()"
   ]
  },
  {
   "cell_type": "code",
   "execution_count": 14,
   "metadata": {},
   "outputs": [],
   "source": [
    "# We will need to pass these arguments into the EfficientFrontier class to generate it\n",
    "efficientfrontier = EfficientFrontier(miu,sample_cov_matrix)"
   ]
  },
  {
   "cell_type": "markdown",
   "metadata": {},
   "source": [
    "### 2.1 Portfolio with minimum volatility"
   ]
  },
  {
   "cell_type": "code",
   "execution_count": 15,
   "metadata": {},
   "outputs": [
    {
     "name": "stdout",
     "output_type": "stream",
     "text": [
      "   Ticker    Weight\n",
      "0      KO  0.192601\n",
      "1    GOLD  0.150493\n",
      "2      KR  0.147530\n",
      "3     JNJ  0.135973\n",
      "4    COST  0.094734\n",
      "5      PG  0.075792\n",
      "6    AMZN  0.066445\n",
      "7   LBTYK  0.036928\n",
      "8    CHTR  0.031258\n",
      "9     UPS  0.022358\n",
      "10   SIRI  0.016251\n",
      "11   AXTA  0.012518\n",
      "12    DVA  0.011265\n",
      "13   STOR  0.005853\n",
      "14    SPY  0.000000\n",
      "15   STNE  0.000000\n",
      "16     RH  0.000000\n",
      "17   TEVA  0.000000\n",
      "18     SU  0.000000\n",
      "19    SYF  0.000000\n",
      "20    MCO  0.000000\n",
      "21    USB  0.000000\n",
      "22    VOO  0.000000\n",
      "23   VRSN  0.000000\n",
      "24      V  0.000000\n",
      "25    PNC  0.000000\n",
      "26  LSXMA  0.000000\n",
      "27   MDLZ  0.000000\n",
      "28    JPM  0.000000\n",
      "29   AAPL  0.000000\n",
      "30    BAC  0.000000\n",
      "31     BK  0.000000\n",
      "32   BIIB  0.000000\n",
      "33     GM  0.000000\n",
      "34     GL  0.000000\n",
      "35    KHC  0.000000\n",
      "36     MA  0.000000\n",
      "37  LBTYA  0.000000\n",
      "38   LILA  0.000000\n",
      "39  LILAK  0.000000\n",
      "40    AXP  0.000000\n",
      "41  LSXMK  0.000000\n",
      "42    MTB  0.000000\n",
      "43    WFC  0.000000\n",
      "Expected annual return: 14.2%\n",
      "Annual volatility: 16.9%\n",
      "Sharpe Ratio: 0.72\n"
     ]
    },
    {
     "data": {
      "text/plain": [
       "(0.14179158003982317, 0.168558968854053, 0.7225458299123588)"
      ]
     },
     "execution_count": 15,
     "metadata": {},
     "output_type": "execute_result"
    }
   ],
   "source": [
    "weights = efficientfrontier.min_volatility()\n",
    "weights_df = pd.Series(weights).to_frame()\n",
    "weights_df.reset_index(inplace=True)\n",
    "weights_df.columns=['Ticker','Weight']\n",
    "print(weights_df.sort_values(by='Weight',ascending=False).reset_index().drop(columns='index'))\n",
    "efficientfrontier.portfolio_performance(verbose=True)"
   ]
  },
  {
   "cell_type": "markdown",
   "metadata": {},
   "source": [
    "### 2.2 Portfolio with Maximum Sharpe Ratio"
   ]
  },
  {
   "cell_type": "code",
   "execution_count": 16,
   "metadata": {},
   "outputs": [
    {
     "name": "stdout",
     "output_type": "stream",
     "text": [
      "   Ticker    Weight\n",
      "0    AMZN  0.493832\n",
      "1    COST  0.261157\n",
      "2      RH  0.147613\n",
      "3    GOLD  0.067942\n",
      "4    AAPL  0.019611\n",
      "5      KR  0.009844\n",
      "6    STNE  0.000000\n",
      "7    MDLZ  0.000000\n",
      "8     MCO  0.000000\n",
      "9     PNC  0.000000\n",
      "10     PG  0.000000\n",
      "11   SIRI  0.000000\n",
      "12    SPY  0.000000\n",
      "13     SU  0.000000\n",
      "14   STOR  0.000000\n",
      "15    MTB  0.000000\n",
      "16    SYF  0.000000\n",
      "17   TEVA  0.000000\n",
      "18    USB  0.000000\n",
      "19    UPS  0.000000\n",
      "20    VOO  0.000000\n",
      "21   VRSN  0.000000\n",
      "22      V  0.000000\n",
      "23     MA  0.000000\n",
      "24  LSXMA  0.000000\n",
      "25  LSXMK  0.000000\n",
      "26     GM  0.000000\n",
      "27   AXTA  0.000000\n",
      "28    BAC  0.000000\n",
      "29     BK  0.000000\n",
      "30   BIIB  0.000000\n",
      "31   CHTR  0.000000\n",
      "32     KO  0.000000\n",
      "33    DVA  0.000000\n",
      "34     GL  0.000000\n",
      "35    AXP  0.000000\n",
      "36    JNJ  0.000000\n",
      "37    JPM  0.000000\n",
      "38    KHC  0.000000\n",
      "39  LBTYA  0.000000\n",
      "40  LBTYK  0.000000\n",
      "41   LILA  0.000000\n",
      "42  LILAK  0.000000\n",
      "43    WFC  0.000000\n",
      "Expected annual return: 48.3%\n",
      "Annual volatility: 26.0%\n",
      "Sharpe Ratio: 1.78\n"
     ]
    },
    {
     "data": {
      "text/plain": [
       "(0.482755847508769, 0.260140749394534, 1.7788672039494486)"
      ]
     },
     "execution_count": 16,
     "metadata": {},
     "output_type": "execute_result"
    }
   ],
   "source": [
    "weights = efficientfrontier.max_sharpe()\n",
    "weights_df = pd.Series(weights).to_frame()\n",
    "weights_df.reset_index(inplace=True)\n",
    "weights_df.columns=['Ticker','Weight']\n",
    "print(weights_df.sort_values(by='Weight',ascending=False).reset_index().drop(columns='index'))\n",
    "efficientfrontier.portfolio_performance(verbose=True)"
   ]
  },
  {
   "cell_type": "markdown",
   "metadata": {},
   "source": [
    "### Closing Comments\n",
    "We see that the portfolio constructed under MPT is extremely different from the portfolio of Berkshire Hathaway, which is shown in the final illustration at end of this discussion.  \n",
    "\n",
    "Possible reasons include:\n",
    "1. Evidently, Berkshire Hathaway does not construct their portfolio solely based on MPT!\n",
    "2. MPT purely bases the \"optimal portfolio\" using past data, which leaving out information such as fundamental news, earnings, etc. which are of consideration to a human analyst.\n",
    "3. Certain assumptions of MPT may also be considered too strong; being an economical model it assumes the markets are efficient, and the implicit assumption of covariances being constant may also not be always accurate.\n",
    "\n",
    "Thank you for reading!"
   ]
  },
  {
   "cell_type": "markdown",
   "metadata": {},
   "source": [
    "<img src = \"Images/Portfolio.png\">"
   ]
  }
 ],
 "metadata": {
  "kernelspec": {
   "display_name": "Python 3",
   "language": "python",
   "name": "python3"
  },
  "language_info": {
   "codemirror_mode": {
    "name": "ipython",
    "version": 3
   },
   "file_extension": ".py",
   "mimetype": "text/x-python",
   "name": "python",
   "nbconvert_exporter": "python",
   "pygments_lexer": "ipython3",
   "version": "3.7.6"
  }
 },
 "nbformat": 4,
 "nbformat_minor": 4
}
